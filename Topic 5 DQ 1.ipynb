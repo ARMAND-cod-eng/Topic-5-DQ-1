{
 "cells": [
  {
   "cell_type": "markdown",
   "id": "504343ad",
   "metadata": {},
   "source": [
    "# Topic 5 DQ 1"
   ]
  },
  {
   "cell_type": "markdown",
   "id": "c16cd105",
   "metadata": {},
   "source": [
    "Explain the difference between correlation and causation. Why is it important to understand the distinction between the two when interpreting statistical results? Provide at least two examples of a correlation that does not necessarily imply causation. How can hypothesis testing be used to determine whether a correlation is statistically significant and can be used to make causal inferences?\n",
    "\n",
    "Prepare your answer as follows:\n",
    "\n",
    "- Provide a professionally written answer, anchored in scholarly work.\n",
    "    \n",
    "- Create a diagram, table, or other visual prop to help explain your answer and include 1–2 sentences describing the visual.\n",
    "    \n",
    "- Include a Jupyter notebook with the relevant Python code you created.\n",
    "    \n",
    "- Record a short 2- to 3-minute video (using tools like Zoom or Loom) in which you explain your answer and code. Use an online video platform such as Loom, YouTube, or Vimeo to upload your completed video. Include the link to the video in your answer."
   ]
  },
  {
   "cell_type": "markdown",
   "id": "c2517823",
   "metadata": {},
   "source": [
    "# definition"
   ]
  },
  {
   "cell_type": "markdown",
   "id": "0e7d239c",
   "metadata": {},
   "source": [
    "1. Correlation occurs when two variables change at the same time. \n",
    "\n",
    "\n",
    "2. Causation: A causation is a relationship in which the change in one variable causes the other variable to change."
   ]
  },
  {
   "cell_type": "markdown",
   "id": "e82c8bb2",
   "metadata": {},
   "source": [
    "## Difference between Correlation and Causation:"
   ]
  },
  {
   "cell_type": "markdown",
   "id": "f112b4b5",
   "metadata": {},
   "source": [
    "Correlation describes an association between types of variables: when one variable changes, so does the other. A correlation is a statistical indicator of the relationship between variables. These variables change together: they covary. But this covariation isn’t necessarily due to a direct or indirect causal link.\n",
    "\n",
    "Causation means that changes in one variable brings about changes in the other; there is a cause-and-effect relationship between variables. The two variables are correlated with each other and there is also a causal link between them."
   ]
  },
  {
   "cell_type": "markdown",
   "id": "ba8fcdcb",
   "metadata": {},
   "source": [
    "- Why Correlation Is Not Causation\n",
    "\n",
    "A correlation is a relationship or connection between two variables where whenever one changes, the other is likely to also change. But a change in one variable doesn’t cause the other to change. That would be causation. Your growth from a child to an adult is an example. When your height increased, your mass increased, too. Getting taller didn’t also make you get wider. Instead, maturing to adulthood caused both variables to increase — that’s causation.\n",
    "\n",
    "\n"
   ]
  },
  {
   "cell_type": "markdown",
   "id": "6f5062b7",
   "metadata": {},
   "source": [
    "# Examples of Correlation without Causation:"
   ]
  },
  {
   "cell_type": "markdown",
   "id": "27bb6ad2",
   "metadata": {},
   "source": []
  },
  {
   "cell_type": "markdown",
   "id": "3b3b034d",
   "metadata": {},
   "source": [
    "1. Children and Music Lessons\n",
    "\n",
    "After a study of human brain development, researchers concluded that kids between 4 and 6 years old who took music lessons showed evidence of boosted brain development in areas related to memory and attention. Based on this study, our biased brain might connect the dots quickly and conclude that music lessons improve brain development. But there are other variables to consider. The fact that the children took music lessons is an indicator of wealth. So they probably had access to other resources that are known to boost brain development like good nutrition.\n",
    "\n",
    "The point of this example is that researchers can’t assume from only this data that music lessons affect brain development. Yes, there’s clearly a correlation, but there’s no actual evidence of causation. We need more data to get a true causal explanation.\n",
    "\n",
    "2. - Cancer and Mobile Phones\n",
    "\n",
    "If you study a chart that shows both the number of cancer cases and the number of mobile phones, you’ll notice that both numbers went up in the last 20 years. If your brain processes this information with cause-relation cognitive bias, you might decide that mobile phones cause cancer. But that’s ridiculous. There’s no proof of that other than the fact that both data points happen to increase. A lot of other things have also increased in the past 20 years, and they can’t all cause cancer or be caused by mobile phone use."
   ]
  },
  {
   "cell_type": "markdown",
   "id": "e2cee059",
   "metadata": {},
   "source": [
    "# hypothesis testing\n",
    "\n",
    "we'll show how hypothesis testing can be used to determine whether a correlation is statistically significant and can be used to make causal inferences."
   ]
  },
  {
   "cell_type": "markdown",
   "id": "88947465",
   "metadata": {},
   "source": [
    "Hypothesis testing is used to determine whether a correlation is statistically significant and whether a causal link can be inferred. One approach is to carry out controlled experiments, in which one variable is manipulated to observe its effect on another variable. The following Python example shows how hypothesis testing can be used with the statsmodels and causalinference packages to analyze causal relationships between income and happiness:"
   ]
  },
  {
   "cell_type": "code",
   "execution_count": 153,
   "id": "9df15d8a",
   "metadata": {},
   "outputs": [],
   "source": [
    "\n",
    "import pandas as pd\n",
    "import numpy as np\n",
    "import seaborn as sns\n",
    "import numpy as np\n",
    "import scipy.stats as stats\n",
    "import matplotlib.pyplot as plt\n"
   ]
  },
  {
   "cell_type": "code",
   "execution_count": 154,
   "id": "7dadac4b",
   "metadata": {},
   "outputs": [
    {
     "data": {
      "text/html": [
       "<div>\n",
       "<style scoped>\n",
       "    .dataframe tbody tr th:only-of-type {\n",
       "        vertical-align: middle;\n",
       "    }\n",
       "\n",
       "    .dataframe tbody tr th {\n",
       "        vertical-align: top;\n",
       "    }\n",
       "\n",
       "    .dataframe thead th {\n",
       "        text-align: right;\n",
       "    }\n",
       "</style>\n",
       "<table border=\"1\" class=\"dataframe\">\n",
       "  <thead>\n",
       "    <tr style=\"text-align: right;\">\n",
       "      <th></th>\n",
       "      <th>country</th>\n",
       "      <th>adjusted_satisfaction</th>\n",
       "      <th>avg_satisfaction</th>\n",
       "      <th>std_satisfaction</th>\n",
       "      <th>avg_income</th>\n",
       "      <th>median_income</th>\n",
       "      <th>income_inequality</th>\n",
       "      <th>region</th>\n",
       "      <th>happyScore</th>\n",
       "      <th>GDP</th>\n",
       "      <th>country.1</th>\n",
       "    </tr>\n",
       "  </thead>\n",
       "  <tbody>\n",
       "    <tr>\n",
       "      <th>0</th>\n",
       "      <td>Armenia</td>\n",
       "      <td>37.0</td>\n",
       "      <td>4.9</td>\n",
       "      <td>2.42</td>\n",
       "      <td>2096.76</td>\n",
       "      <td>1731.506667</td>\n",
       "      <td>31.445556</td>\n",
       "      <td>'Central and Eastern Europe'</td>\n",
       "      <td>4.350</td>\n",
       "      <td>0.76821</td>\n",
       "      <td>Armenia</td>\n",
       "    </tr>\n",
       "    <tr>\n",
       "      <th>1</th>\n",
       "      <td>Angola</td>\n",
       "      <td>26.0</td>\n",
       "      <td>4.3</td>\n",
       "      <td>3.19</td>\n",
       "      <td>1448.88</td>\n",
       "      <td>1044.240000</td>\n",
       "      <td>42.720000</td>\n",
       "      <td>'Sub-Saharan Africa'</td>\n",
       "      <td>4.033</td>\n",
       "      <td>0.75778</td>\n",
       "      <td>Angola</td>\n",
       "    </tr>\n",
       "    <tr>\n",
       "      <th>2</th>\n",
       "      <td>Argentina</td>\n",
       "      <td>60.0</td>\n",
       "      <td>7.1</td>\n",
       "      <td>1.91</td>\n",
       "      <td>7101.12</td>\n",
       "      <td>5109.400000</td>\n",
       "      <td>45.475556</td>\n",
       "      <td>'Latin America and Caribbean'</td>\n",
       "      <td>6.574</td>\n",
       "      <td>1.05351</td>\n",
       "      <td>Argentina</td>\n",
       "    </tr>\n",
       "    <tr>\n",
       "      <th>3</th>\n",
       "      <td>Austria</td>\n",
       "      <td>59.0</td>\n",
       "      <td>7.2</td>\n",
       "      <td>2.11</td>\n",
       "      <td>19457.04</td>\n",
       "      <td>16879.620000</td>\n",
       "      <td>30.296250</td>\n",
       "      <td>'Western Europe'</td>\n",
       "      <td>7.200</td>\n",
       "      <td>1.33723</td>\n",
       "      <td>Austria</td>\n",
       "    </tr>\n",
       "    <tr>\n",
       "      <th>4</th>\n",
       "      <td>Australia</td>\n",
       "      <td>65.0</td>\n",
       "      <td>7.6</td>\n",
       "      <td>1.80</td>\n",
       "      <td>19917.00</td>\n",
       "      <td>15846.060000</td>\n",
       "      <td>35.285000</td>\n",
       "      <td>'Australia and New Zealand'</td>\n",
       "      <td>7.284</td>\n",
       "      <td>1.33358</td>\n",
       "      <td>Australia</td>\n",
       "    </tr>\n",
       "  </tbody>\n",
       "</table>\n",
       "</div>"
      ],
      "text/plain": [
       "     country  adjusted_satisfaction  avg_satisfaction  std_satisfaction  \\\n",
       "0    Armenia                   37.0               4.9              2.42   \n",
       "1     Angola                   26.0               4.3              3.19   \n",
       "2  Argentina                   60.0               7.1              1.91   \n",
       "3    Austria                   59.0               7.2              2.11   \n",
       "4  Australia                   65.0               7.6              1.80   \n",
       "\n",
       "   avg_income  median_income  income_inequality  \\\n",
       "0     2096.76    1731.506667          31.445556   \n",
       "1     1448.88    1044.240000          42.720000   \n",
       "2     7101.12    5109.400000          45.475556   \n",
       "3    19457.04   16879.620000          30.296250   \n",
       "4    19917.00   15846.060000          35.285000   \n",
       "\n",
       "                          region  happyScore      GDP  country.1  \n",
       "0   'Central and Eastern Europe'       4.350  0.76821    Armenia  \n",
       "1           'Sub-Saharan Africa'       4.033  0.75778     Angola  \n",
       "2  'Latin America and Caribbean'       6.574  1.05351  Argentina  \n",
       "3               'Western Europe'       7.200  1.33723    Austria  \n",
       "4    'Australia and New Zealand'       7.284  1.33358  Australia  "
      ]
     },
     "execution_count": 154,
     "metadata": {},
     "output_type": "execute_result"
    }
   ],
   "source": [
    "#read the dataset\n",
    "df = pd.read_csv(\"happyscore_income.csv\")\n",
    "df.head()"
   ]
  },
  {
   "cell_type": "code",
   "execution_count": 108,
   "id": "d6522180",
   "metadata": {},
   "outputs": [
    {
     "name": "stdout",
     "output_type": "stream",
     "text": [
      "<class 'pandas.core.frame.DataFrame'>\n",
      "RangeIndex: 111 entries, 0 to 110\n",
      "Data columns (total 11 columns):\n",
      " #   Column                 Non-Null Count  Dtype  \n",
      "---  ------                 --------------  -----  \n",
      " 0   country                111 non-null    object \n",
      " 1   adjusted_satisfaction  111 non-null    float64\n",
      " 2   avg_satisfaction       111 non-null    float64\n",
      " 3   std_satisfaction       111 non-null    float64\n",
      " 4   avg_income             111 non-null    float64\n",
      " 5   median_income          111 non-null    float64\n",
      " 6   income_inequality      111 non-null    float64\n",
      " 7   region                 111 non-null    object \n",
      " 8   happyScore             111 non-null    float64\n",
      " 9   GDP                    111 non-null    float64\n",
      " 10  country.1              111 non-null    object \n",
      "dtypes: float64(8), object(3)\n",
      "memory usage: 9.7+ KB\n"
     ]
    }
   ],
   "source": [
    "df.info()"
   ]
  },
  {
   "cell_type": "code",
   "execution_count": 142,
   "id": "ba57138b",
   "metadata": {},
   "outputs": [
    {
     "data": {
      "text/plain": [
       "<Axes: xlabel='median_income', ylabel='happyScore'>"
      ]
     },
     "execution_count": 142,
     "metadata": {},
     "output_type": "execute_result"
    },
    {
     "data": {
      "image/png": "[encoded data removed]",
      "text/plain": [
       "<Figure size 640x480 with 1 Axes>"
      ]
     },
     "metadata": {},
     "output_type": "display_data"
    }
   ],
   "source": [
    "#we plot scatter plot; the graph shows the relationship between income and happiness\n",
    "sns.scatterplot(data= df, x= 'median_income', y= 'happyScore')\n",
    "\n",
    "#we plot regression plot\n",
    "sns.regplot(data= df, x= 'median_income', y= 'happyScore')"
   ]
  },
  {
   "cell_type": "markdown",
   "id": "3fe0efaa",
   "metadata": {},
   "source": [
    "\n",
    "The scatter plot illustrates the relationship between income and happiness levels, with each data point representing the average income for each country and the corresponding happiness level. "
   ]
  },
  {
   "cell_type": "code",
   "execution_count": 110,
   "id": "4b1034c0",
   "metadata": {},
   "outputs": [
    {
     "name": "stdout",
     "output_type": "stream",
     "text": [
      "the correlation coefficient is:  0.7603279373397436\n",
      "the p-value is:  3.736097155334566e-22\n"
     ]
    }
   ],
   "source": [
    "# Calculate correlation coefficient and p-value\n",
    "corr_coef, p_value = stats.pearsonr(df.median_income, df.happyScore)\n",
    "print(\"the correlation coefficient is: \",corr_coef)\n",
    "print(\"the p-value is: \" , p_value)"
   ]
  },
  {
   "cell_type": "markdown",
   "id": "f8b8de26",
   "metadata": {},
   "source": [
    "\n",
    "\n",
    "- Correlation coefficient: The correlation coefficient measures the strength and direction of the linear relationship between income and happiness. A positive correlation coefficient indicates a positive association between the two variables, suggesting that higher levels of income are associated with higher levels of happiness.\n",
    "\n",
    "- p-value: The p-value indicates the statistical significance of the correlation coefficient. In hypothesis testing, a low p-value (usually less than 0.05) suggests that the observed correlation is probably not due to chance.\n",
    "\n",
    "Consequently, the conclusion drawn from the analysis is that there is a statistically significant positive correlation between income and level of happiness. However, it is essential to note that correlation does not imply causation. Further analysis is required to determine the underlying factors influencing the observed relationship between income and happiness."
   ]
  },
  {
   "cell_type": "markdown",
   "id": "f0400875",
   "metadata": {},
   "source": [
    "### To perform causal inference in Python, we can use causal inference libraries such as causalinference."
   ]
  },
  {
   "cell_type": "code",
   "execution_count": 155,
   "id": "cafd4ce7",
   "metadata": {},
   "outputs": [],
   "source": [
    "import causalinference\n",
    "\n",
    "\n"
   ]
  },
  {
   "cell_type": "code",
   "execution_count": 113,
   "id": "1a1df1b3",
   "metadata": {},
   "outputs": [
    {
     "name": "stdout",
     "output_type": "stream",
     "text": [
      "Requirement already satisfied: causalinference in c:\\users\\armand\\anaconda3\\lib\\site-packages (0.1.3)\n"
     ]
    }
   ],
   "source": [
    "!pip install causalinference"
   ]
  },
  {
   "cell_type": "code",
   "execution_count": 114,
   "id": "6a5939f5",
   "metadata": {},
   "outputs": [
    {
     "data": {
      "text/plain": [
       "0      4.350\n",
       "1      4.033\n",
       "2      6.574\n",
       "3      7.200\n",
       "4      7.284\n",
       "       ...  \n",
       "106    6.485\n",
       "107    5.360\n",
       "108    4.642\n",
       "109    5.129\n",
       "110    4.610\n",
       "Name: happyScore, Length: 111, dtype: float64"
      ]
     },
     "execution_count": 114,
     "metadata": {},
     "output_type": "execute_result"
    }
   ],
   "source": [
    "df.happyScore"
   ]
  },
  {
   "cell_type": "code",
   "execution_count": 158,
   "id": "257d3536",
   "metadata": {
    "scrolled": true
   },
   "outputs": [
    {
     "data": {
      "text/plain": [
       "array([[4.35 ],\n",
       "       [4.033],\n",
       "       [6.574],\n",
       "       [7.2  ],\n",
       "       [7.284],\n",
       "       [5.212],\n",
       "       [4.694],\n",
       "       [6.937],\n",
       "       [3.587],\n",
       "       [4.218],\n",
       "       [2.905],\n",
       "       [3.34 ],\n",
       "       [5.89 ],\n",
       "       [6.983],\n",
       "       [4.332],\n",
       "       [5.813],\n",
       "       [7.427],\n",
       "       [7.587],\n",
       "       [6.67 ],\n",
       "       [4.252],\n",
       "       [5.14 ],\n",
       "       [6.477],\n",
       "       [7.226],\n",
       "       [5.689],\n",
       "       [6.505],\n",
       "       [6.75 ],\n",
       "       [4.369],\n",
       "       [7.527],\n",
       "       [4.885],\n",
       "       [5.975],\n",
       "       [5.429],\n",
       "       [6.329],\n",
       "       [4.512],\n",
       "       [7.406],\n",
       "       [6.575],\n",
       "       [3.896],\n",
       "       [6.867],\n",
       "       [4.297],\n",
       "       [4.633],\n",
       "       [4.857],\n",
       "       [4.788],\n",
       "       [5.759],\n",
       "       [4.8  ],\n",
       "       [5.399],\n",
       "       [6.94 ],\n",
       "       [7.278],\n",
       "       [4.565],\n",
       "       [4.686],\n",
       "       [7.561],\n",
       "       [5.948],\n",
       "       [5.987],\n",
       "       [4.419],\n",
       "       [5.286],\n",
       "       [3.819],\n",
       "       [5.589],\n",
       "       [5.855],\n",
       "       [4.876],\n",
       "       [4.271],\n",
       "       [4.571],\n",
       "       [4.898],\n",
       "       [5.833],\n",
       "       [6.946],\n",
       "       [5.098],\n",
       "       [5.013],\n",
       "       [5.889],\n",
       "       [3.681],\n",
       "       [3.995],\n",
       "       [4.874],\n",
       "       [4.436],\n",
       "       [5.477],\n",
       "       [7.187],\n",
       "       [5.77 ],\n",
       "       [4.971],\n",
       "       [3.845],\n",
       "       [5.268],\n",
       "       [5.828],\n",
       "       [7.378],\n",
       "       [7.522],\n",
       "       [4.514],\n",
       "       [6.786],\n",
       "       [5.824],\n",
       "       [5.073],\n",
       "       [5.194],\n",
       "       [5.791],\n",
       "       [5.102],\n",
       "       [5.878],\n",
       "       [5.124],\n",
       "       [5.123],\n",
       "       [5.716],\n",
       "       [3.465],\n",
       "       [7.364],\n",
       "       [5.848],\n",
       "       [5.995],\n",
       "       [4.507],\n",
       "       [3.904],\n",
       "       [6.13 ],\n",
       "       [3.667],\n",
       "       [2.839],\n",
       "       [6.455],\n",
       "       [4.786],\n",
       "       [4.739],\n",
       "       [5.332],\n",
       "       [3.781],\n",
       "       [4.681],\n",
       "       [3.931],\n",
       "       [7.119],\n",
       "       [6.485],\n",
       "       [5.36 ],\n",
       "       [4.642],\n",
       "       [5.129],\n",
       "       [4.61 ]])"
      ]
     },
     "execution_count": 158,
     "metadata": {},
     "output_type": "execute_result"
    }
   ],
   "source": [
    "#we extract the happyScore column from the dataset data and convert it into a NumPy array. \n",
    "\n",
    "#df['happyScore'] = pd.to_numeric(df['happyScore'])\n",
    "Y = df.happyScore.values.reshape(-1, 1)\n",
    "\n",
    "\n",
    "#The reshape(-1, 1) method is used to reshape the array into a column vector. \n",
    "#This column vector will represent the outcome variable, which is the happiness level of individuals.\n",
    "\n",
    "\n",
    "Y"
   ]
  },
  {
   "cell_type": "code",
   "execution_count": 143,
   "id": "c7f9ace3",
   "metadata": {},
   "outputs": [
    {
     "data": {
      "text/plain": [
       "array([0, 0, 1, 1, 1, 0, 0, 1, 0, 0, 0, 0, 0, 0, 0, 0, 1, 1, 0, 0, 0, 0,\n",
       "       0, 1, 1, 1, 0, 1, 0, 0, 1, 1, 0, 1, 1, 0, 1, 0, 0, 1, 0, 1, 1, 0,\n",
       "       1, 1, 0, 0, 1, 1, 1, 0, 0, 0, 0, 0, 0, 0, 0, 0, 1, 1, 1, 0, 0, 0,\n",
       "       0, 0, 0, 0, 0, 0, 0, 0, 0, 0, 1, 1, 0, 0, 0, 0, 0, 1, 1, 0, 0, 0,\n",
       "       1, 0, 1, 1, 1, 0, 0, 0, 0, 0, 0, 0, 0, 0, 0, 0, 0, 1, 1, 0, 0, 0,\n",
       "       0], dtype=int64)"
      ]
     },
     "execution_count": 143,
     "metadata": {},
     "output_type": "execute_result"
    }
   ],
   "source": [
    "# Binary treatment: High income (1) vs. low income (0)\n",
    "\n",
    "D = df['median_income'].apply(lambda x: 1 if x > 5000 else 0).values  \n",
    "\n",
    "\n",
    "#This line creates a binary processing variable D based on the \"Income\" column of the dataset data. \n",
    "#If an individual's income is greater than $5,000, the country is considered to have a high income (value 1); otherwise, he or she is considered to have a low income (value 0). \n",
    "#The .apply() method with a lambda function is used to apply this condition to each value in the \"Income\" column. Finally, .values converts the resulting Series object into a NumPy \n",
    "\n",
    "D"
   ]
  },
  {
   "cell_type": "code",
   "execution_count": 144,
   "id": "2fae070a",
   "metadata": {},
   "outputs": [
    {
     "data": {
      "text/plain": [
       "array([[ 1731.50666667],\n",
       "       [ 1044.24      ],\n",
       "       [ 5109.4       ],\n",
       "       [16879.62      ],\n",
       "       [15846.06      ],\n",
       "       [ 2931.48      ],\n",
       "       [  994.14      ],\n",
       "       [15166.455     ],\n",
       "       [  630.24      ],\n",
       "       [ 4523.565     ],\n",
       "       [  436.92      ],\n",
       "       [  657.        ],\n",
       "       [ 2584.47      ],\n",
       "       [ 3294.18      ],\n",
       "       [ 1632.6       ],\n",
       "       [ 4814.45333333],\n",
       "       [16829.1       ],\n",
       "       [19442.92      ],\n",
       "       [ 4448.01      ],\n",
       "       [ 1030.08      ],\n",
       "       [ 2108.13      ],\n",
       "       [ 2618.67428571],\n",
       "       [ 4373.52      ],\n",
       "       [ 8624.295     ],\n",
       "       [ 8363.37      ],\n",
       "       [16291.26      ],\n",
       "       [ 1348.74      ],\n",
       "       [15630.885     ],\n",
       "       [ 2836.45333333],\n",
       "       [ 2435.26666667],\n",
       "       [ 6540.135     ],\n",
       "       [11782.395     ],\n",
       "       [  857.16      ],\n",
       "       [14962.56      ],\n",
       "       [14971.25142857],\n",
       "       [ 1791.48      ],\n",
       "       [14172.735     ],\n",
       "       [ 1483.77333333],\n",
       "       [ 1148.28      ],\n",
       "       [ 9776.475     ],\n",
       "       [ 1757.84      ],\n",
       "       [ 6622.11428571],\n",
       "       [ 6056.71636364],\n",
       "       [ 1161.06666667],\n",
       "       [13823.16      ],\n",
       "       [ 8234.68      ],\n",
       "       [ 1042.2       ],\n",
       "       [ 3961.        ],\n",
       "       [16179.315     ],\n",
       "       [13163.07      ],\n",
       "       [12541.08      ],\n",
       "       [  949.08      ],\n",
       "       [ 1530.13333333],\n",
       "       [ 1437.38      ],\n",
       "       [ 2224.68      ],\n",
       "       [ 3025.48      ],\n",
       "       [ 1118.94      ],\n",
       "       [ 1862.36      ],\n",
       "       [  528.72      ],\n",
       "       [  532.92      ],\n",
       "       [ 5598.36      ],\n",
       "       [22240.23      ],\n",
       "       [ 5438.21454545],\n",
       "       [ 2064.48      ],\n",
       "       [ 2547.41333333],\n",
       "       [  415.48      ],\n",
       "       [  695.34      ],\n",
       "       [ 2565.72      ],\n",
       "       [ 1567.2       ],\n",
       "       [ 3222.78      ],\n",
       "       [ 2646.97333333],\n",
       "       [ 4930.68      ],\n",
       "       [  488.52      ],\n",
       "       [  535.56      ],\n",
       "       [  649.2       ],\n",
       "       [ 1632.88      ],\n",
       "       [15880.545     ],\n",
       "       [19477.62      ],\n",
       "       [ 1155.        ],\n",
       "       [ 3814.21333333],\n",
       "       [ 2951.13333333],\n",
       "       [ 1472.4       ],\n",
       "       [ 1174.368     ],\n",
       "       [ 5451.24705882],\n",
       "       [ 7800.645     ],\n",
       "       [ 3136.04      ],\n",
       "       [ 2741.37      ],\n",
       "       [ 3992.50285714],\n",
       "       [ 5520.975     ],\n",
       "       [  549.44      ],\n",
       "       [15166.605     ],\n",
       "       [11071.995     ],\n",
       "       [ 7180.30153846],\n",
       "       [  669.36      ],\n",
       "       [  850.02      ],\n",
       "       [ 2366.28      ],\n",
       "       [  876.6       ],\n",
       "       [  636.        ],\n",
       "       [ 3523.545     ],\n",
       "       [ 1260.69      ],\n",
       "       [ 2572.56      ],\n",
       "       [ 4018.68      ],\n",
       "       [  693.3       ],\n",
       "       [ 3643.52      ],\n",
       "       [  780.16      ],\n",
       "       [17925.36      ],\n",
       "       [ 5269.22666667],\n",
       "       [ 1643.58      ],\n",
       "       [ 1506.4       ],\n",
       "       [  510.06      ],\n",
       "       [ 1230.6       ]])"
      ]
     },
     "execution_count": 144,
     "metadata": {},
     "output_type": "execute_result"
    }
   ],
   "source": [
    "#we extract the median_income column from the dataset data and convert it into a NumPy array. \n",
    "\n",
    "X = df['median_income'].values.reshape(-1, 1)\n",
    "\n",
    "#The reshape(-1, 1) method is used to reshape the array into a column vector. \n",
    "\n",
    "\n",
    "X"
   ]
  },
  {
   "cell_type": "code",
   "execution_count": 160,
   "id": "bf68322d",
   "metadata": {},
   "outputs": [
    {
     "name": "stdout",
     "output_type": "stream",
     "text": [
      "Average Treatment Effect (ATE): 1.3542702702702705\n"
     ]
    }
   ],
   "source": [
    "# Perform causal inference analysis using the propensity score matching method\n",
    "causal = causalinference.CausalModel(Y, D, X)\n",
    "causal.est_propensity()\n",
    "causal.est_via_matching()\n",
    "\n",
    "\n",
    "# Access treatment effect estimate\n",
    "print(\"Average Treatment Effect (ATE):\", causal.estimates['matching']['ate'])"
   ]
  },
  {
   "cell_type": "markdown",
   "id": "0c275533",
   "metadata": {},
   "source": [
    "Average Treatment Effect (ATE): The ATE of 1.354 indicates that, on average, individuals with a higher income (treatment group) have a happiness score that is approximately 1.354 points higher than individuals with a lower income (control group). This suggests a positive relationship between income and happiness.\n",
    "\n",
    "Correlation Coefficient: The correlation coefficient of 0.760 indicates a strong positive correlation between income and happiness scores. This suggests that as income increases, happiness scores tend to increase as well.\n",
    "\n",
    "P-value: The very small p-value (3.736097155334566e-22) indicates that the observed correlation coefficient is statistically significant. In other words, there is strong evidence to reject the null hypothesis of no correlation between income and happiness.\n",
    "\n",
    "In summary, based on these findings, we can conclude that there is a significant positive correlation between income and happiness scores. Additionally, the estimated ATE suggests that higher income is associated with higher levels of happiness on average. \n",
    "\n",
    "\n",
    "\n"
   ]
  },
  {
   "cell_type": "markdown",
   "id": "43ce32a5",
   "metadata": {},
   "source": [
    "# data set:\n",
    "https://www.kaggle.com/datasets/levyedgar44/income-and-happiness-correction"
   ]
  },
  {
   "cell_type": "markdown",
   "id": "f42bd119",
   "metadata": {},
   "source": [
    "# References:\n",
    "Marco, P. (2024). Introduction to Causal Inference with Machine Learning in Python. Towardsdatascience. https://towardsdatascience.com/introduction-to-causal-inference-with-machine-learning-in-python-1a42f897c6ad \n",
    "Cornellius, Y.(2022). 4 Python Packages to Learn Causal Analysis. Towardsdatascience. https://towardsdatascience.com/4-python-packages-to-learn-causal-analysis-9a8eaab9fdab \n",
    "Akansha, K. Everything you need to know about Hypothesis Testing in Machine Learning. Analyticsvidhya. https://www.analyticsvidhya.com/blog/2021/09/hypothesis-testing-in-machine-learning-everything-you-need-to-know/\n",
    "Anthony, F.(2022). Correlation Is Not Causation. Builtin. https://builtin.com/data-science/correlation-is-not-causation \n",
    "Pritha, B.(2023). Correlation vs. Causation | Difference, Designs & Examples. Scribbr. https://www.scribbr.com/methodology/correlation-vs-causation/  \n"
   ]
  },
  {
   "cell_type": "code",
   "execution_count": null,
   "id": "bad04e16",
   "metadata": {},
   "outputs": [],
   "source": []
  }
 ],
 "metadata": {
  "kernelspec": {
   "display_name": "Python 3 (ipykernel)",
   "language": "python",
   "name": "python3"
  },
  "language_info": {
   "codemirror_mode": {
    "name": "ipython",
    "version": 3
   },
   "file_extension": ".py",
   "mimetype": "text/x-python",
   "name": "python",
   "nbconvert_exporter": "python",
   "pygments_lexer": "ipython3",
   "version": "3.11.5"
  }
 },
 "nbformat": 4,
 "nbformat_minor": 5
}
